{
 "cells": [
  {
   "cell_type": "markdown",
   "id": "137f08f9-acde-4281-ba18-d8dbf2a32a6d",
   "metadata": {},
   "source": [
    "# To-Do-List\n",
    "### In this project, you will create a command-line To-Do List Manager using Python. The application should allow users to add tasks, view tasks, edit task completion status, delete tasks, and quit.\n",
    "#### Task Class<br>\n",
    "- Implement a Task class to represent individual tasks. <br>\n",
    "- Each task should have a unique ID, a description, and a completion status. <br>\n",
    "- Include a method to display the task in a user-friendly format. <br>\n",
    "#### To-Do List Class <br>\n",
    "- Implement a ToDoList class to manage a list of tasks. <br>\n",
    "- Include methods for adding tasks, viewing tasks, editing task completion status, deleting tasks, and retrieving tasks by ID. <br>\n",
    "#### User Interactions <br>\n",
    "- Create a simple user interface for the To-Do List Manager using a loop. <br>\n",
    "- Provide options for users to. <br>\n",
    "- Add a new task. <br>\n",
    "- View all tasks. <br>\n",
    "- Edit the completion status of a task. <br>\n",
    "- Delete a task. <br>\n",
    "- Quit the manager. <br>\n",
    "- Implement appropriate data validation to handle user input and prevent errors. "
   ]
  },
  {
   "cell_type": "code",
   "execution_count": 2,
   "id": "77cd303a-3a91-4eaf-9b57-2072d169a45f",
   "metadata": {},
   "outputs": [
    {
     "name": "stdout",
     "output_type": "stream",
     "text": [
      "-----------------------------------------------------------------------------\n",
      "1. Add a new task\n",
      "2. List all tasks\n",
      "3. Toggle completion status\n",
      "4. Delete a task\n",
      "5. Quit\n"
     ]
    },
    {
     "name": "stdin",
     "output_type": "stream",
     "text": [
      "Make your choice in the form of a number:  1\n",
      "Enter task description:  aaaa\n"
     ]
    },
    {
     "name": "stdout",
     "output_type": "stream",
     "text": [
      "item 1 'aaaa' was successfully added to the list.\n",
      "-----------------------------------------------------------------------------\n",
      "1. Add a new task\n",
      "2. List all tasks\n",
      "3. Toggle completion status\n",
      "4. Delete a task\n",
      "5. Quit\n"
     ]
    },
    {
     "name": "stdin",
     "output_type": "stream",
     "text": [
      "Make your choice in the form of a number:  1\n",
      "Enter task description:  bbbb\n"
     ]
    },
    {
     "name": "stdout",
     "output_type": "stream",
     "text": [
      "item 2 'bbbb' was successfully added to the list.\n",
      "-----------------------------------------------------------------------------\n",
      "1. Add a new task\n",
      "2. List all tasks\n",
      "3. Toggle completion status\n",
      "4. Delete a task\n",
      "5. Quit\n"
     ]
    },
    {
     "name": "stdin",
     "output_type": "stream",
     "text": [
      "Make your choice in the form of a number:  1\n",
      "Enter task description:  cccc\n"
     ]
    },
    {
     "name": "stdout",
     "output_type": "stream",
     "text": [
      "item 3 'cccc' was successfully added to the list.\n",
      "-----------------------------------------------------------------------------\n",
      "1. Add a new task\n",
      "2. List all tasks\n",
      "3. Toggle completion status\n",
      "4. Delete a task\n",
      "5. Quit\n"
     ]
    },
    {
     "name": "stdin",
     "output_type": "stream",
     "text": [
      "Make your choice in the form of a number:  1\n",
      "Enter task description:  dddd\n"
     ]
    },
    {
     "name": "stdout",
     "output_type": "stream",
     "text": [
      "item 4 'dddd' was successfully added to the list.\n",
      "-----------------------------------------------------------------------------\n",
      "1. Add a new task\n",
      "2. List all tasks\n",
      "3. Toggle completion status\n",
      "4. Delete a task\n",
      "5. Quit\n"
     ]
    },
    {
     "name": "stdin",
     "output_type": "stream",
     "text": [
      "Make your choice in the form of a number:  2\n"
     ]
    },
    {
     "name": "stdout",
     "output_type": "stream",
     "text": [
      "[1] aaaa - Pending\n",
      "[2] bbbb - Pending\n",
      "[3] cccc - Pending\n",
      "[4] dddd - Pending\n",
      "-----------------------------------------------------------------------------\n",
      "1. Add a new task\n",
      "2. List all tasks\n",
      "3. Toggle completion status\n",
      "4. Delete a task\n",
      "5. Quit\n"
     ]
    },
    {
     "name": "stdin",
     "output_type": "stream",
     "text": [
      "Make your choice in the form of a number:  3\n",
      "Enter task id:  2\n"
     ]
    },
    {
     "name": "stdout",
     "output_type": "stream",
     "text": [
      "Task 2 completion status toggled to Completed.\n",
      "-----------------------------------------------------------------------------\n",
      "1. Add a new task\n",
      "2. List all tasks\n",
      "3. Toggle completion status\n",
      "4. Delete a task\n",
      "5. Quit\n"
     ]
    },
    {
     "name": "stdin",
     "output_type": "stream",
     "text": [
      "Make your choice in the form of a number:  2\n"
     ]
    },
    {
     "name": "stdout",
     "output_type": "stream",
     "text": [
      "[1] aaaa - Pending\n",
      "[2] bbbb - Completed\n",
      "[3] cccc - Pending\n",
      "[4] dddd - Pending\n",
      "-----------------------------------------------------------------------------\n",
      "1. Add a new task\n",
      "2. List all tasks\n",
      "3. Toggle completion status\n",
      "4. Delete a task\n",
      "5. Quit\n"
     ]
    },
    {
     "name": "stdin",
     "output_type": "stream",
     "text": [
      "Make your choice in the form of a number:  4\n",
      "Enter task ID to delete:  2\n"
     ]
    },
    {
     "name": "stdout",
     "output_type": "stream",
     "text": [
      "Task 2 was successfully deleted.\n",
      "-----------------------------------------------------------------------------\n",
      "1. Add a new task\n",
      "2. List all tasks\n",
      "3. Toggle completion status\n",
      "4. Delete a task\n",
      "5. Quit\n"
     ]
    },
    {
     "name": "stdin",
     "output_type": "stream",
     "text": [
      "Make your choice in the form of a number:  2\n"
     ]
    },
    {
     "name": "stdout",
     "output_type": "stream",
     "text": [
      "[1] aaaa - Pending\n",
      "[3] cccc - Pending\n",
      "[4] dddd - Pending\n",
      "-----------------------------------------------------------------------------\n",
      "1. Add a new task\n",
      "2. List all tasks\n",
      "3. Toggle completion status\n",
      "4. Delete a task\n",
      "5. Quit\n"
     ]
    },
    {
     "name": "stdin",
     "output_type": "stream",
     "text": [
      "Make your choice in the form of a number:  5\n"
     ]
    },
    {
     "name": "stdout",
     "output_type": "stream",
     "text": [
      "Thank you for using the To-Do List Manager. We hope your mind is still working!\n"
     ]
    }
   ],
   "source": [
    "\n",
    "class ToDoList:\n",
    "    def __init__(self):\n",
    "        self.tasks = []\n",
    "\n",
    "    def list_tasks(self):\n",
    "        if self.tasks:\n",
    "            for task in self.tasks:\n",
    "                print(task)\n",
    "        else:\n",
    "            print(\"No tasks available.\")\n",
    "\n",
    "    def add_task(self, description):\n",
    "        task_id = len(self.tasks) + 1\n",
    "        task = Task(task_id, description)\n",
    "        self.tasks.append(task)\n",
    "        print(f\"item {task_id} '{description}' was successfully added to the list.\")\n",
    "\n",
    "    def delete_task(self, task_id):\n",
    "        for task in self.tasks:\n",
    "            if task.task_id == task_id:\n",
    "                self.tasks.remove(task)\n",
    "                print(f\"Task {task_id} was successfully deleted.\")\n",
    "                break\n",
    "        else:\n",
    "            print(f\"Task {task_id} not found.\")\n",
    "\n",
    "    def task_completed(self, task_id):\n",
    "        for task in self.tasks:\n",
    "            if task.task_id == task_id:\n",
    "                task.cocmpleted = not_task.completed\n",
    "                status = \"Completed\" if task.completed else \"Pending\"\n",
    "                print(f\"Task {task_id} completion status toggled to {status}.\")\n",
    "                break\n",
    "        else:\n",
    "            print(f\"Task {task_id} not found.\")\n",
    "\n",
    "    def toggle_completion(self, task_id):\n",
    "        for task in self.tasks:\n",
    "            if task.task_id == task_id:\n",
    "                task.completed = not task.completed\n",
    "                status = \"Completed\" if task.completed else \"Pending\"\n",
    "                print(f\"Task {task_id} completion status toggled to {status}.\")\n",
    "                break\n",
    "        else:\n",
    "            print(f\"Task {task_id} not found.\")\n",
    "\n",
    "class Task:\n",
    "    def __init__(self, task_id, description, completed = False):\n",
    "        self.task_id = task_id\n",
    "        self.description = description\n",
    "        self.completed = completed\n",
    "\n",
    "    def __str__(self):\n",
    "        status = \"Completed\" if self.completed else \"Pending\"\n",
    "        return f\"[{self.task_id}] {self.description} - {status}\"\n",
    "\n",
    "    def __repr__(self):\n",
    "        return self.__str__()\n",
    "\n",
    "def main():\n",
    "    todo_list = ToDoList()\n",
    "    while True:\n",
    "        print(\"-\"*77)\n",
    "        print(\"1. Add a new task\")\n",
    "        print(\"2. List all tasks\")\n",
    "        print(\"3. Toggle completion status\")\n",
    "        print(\"4. Delete a task\")\n",
    "        print(\"5. Quit\")\n",
    "        option = input(\"Make your choice in the form of a number: \")\n",
    "        \n",
    "        if option == \"1\":\n",
    "            description = input(\"Enter task description: \")\n",
    "            todo_list.add_task(description)\n",
    "        elif option == \"2\":\n",
    "            todo_list.list_tasks()\n",
    "        elif option == \"3\":\n",
    "            task_id = int(input(\"Enter task id: \"))\n",
    "            todo_list.toggle_completion(task_id)\n",
    "        elif option == \"4\":\n",
    "            task_id = int(input(\"Enter task ID to delete: \"))\n",
    "            todo_list.delete_task(task_id)\n",
    "        elif option == \"5\":\n",
    "            print(\"Thank you for using the To-Do List Manager. We hope your mind is still working!\")\n",
    "            break\n",
    "        else:\n",
    "            print(\"Invalid choice. Please enter a number between '1-5'.\")\n",
    "\n",
    "if __name__ == \"__main__\":\n",
    "    main()\n"
   ]
  },
  {
   "cell_type": "code",
   "execution_count": null,
   "id": "397dcd39",
   "metadata": {},
   "outputs": [],
   "source": []
  }
 ],
 "metadata": {
  "kernelspec": {
   "display_name": "Python 3 (ipykernel)",
   "language": "python",
   "name": "python3"
  },
  "language_info": {
   "codemirror_mode": {
    "name": "ipython",
    "version": 3
   },
   "file_extension": ".py",
   "mimetype": "text/x-python",
   "name": "python",
   "nbconvert_exporter": "python",
   "pygments_lexer": "ipython3",
   "version": "3.11.7"
  }
 },
 "nbformat": 4,
 "nbformat_minor": 5
}
